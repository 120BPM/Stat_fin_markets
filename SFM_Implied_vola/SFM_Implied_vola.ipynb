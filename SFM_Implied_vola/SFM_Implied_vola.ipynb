{
 "cells": [
  {
   "cell_type": "code",
   "execution_count": 17,
   "metadata": {},
   "outputs": [
    {
     "name": "stdout",
     "output_type": "stream",
     "text": [
      "Implied vol: 15.30%\n",
      "Market price = 17.50\n",
      "Model price = 17.50\n"
     ]
    }
   ],
   "source": [
    "from scipy.stats import norm\n",
    "import pandas as pd\n",
    "import numpy as np\n",
    "import datetime\n",
    "\n",
    "#see also http://www.codeandfinance.com/finding-implied-vol.html\n",
    "\n",
    "def find_vol(target_value, call_put, S, K, tau, r):\n",
    "    MAX_ITERATIONS = 100\n",
    "    PRECISION = 1.0e-5\n",
    "\n",
    "    sigma = 0.5\n",
    "    for i in range(0, MAX_ITERATIONS):\n",
    "        price = bs_price(call_put, S, K, tau, r, sigma)\n",
    "        vega = bs_vega(call_put, S, K, tau, r, sigma)\n",
    "\n",
    "        price = price\n",
    "        diff = target_value - price  # f(x)\n",
    "\n",
    "        #print (i, sigma, diff)\n",
    "\n",
    "        if (abs(diff) < PRECISION):\n",
    "            return sigma\n",
    "        sigma = sigma + diff/vega # f(x) / f'(x)\n",
    "\n",
    "    # value wasn't found, return best guess so far\n",
    "    return sigma\n",
    "n = norm.pdf\n",
    "N = norm.cdf\n",
    "\n",
    "def bs_price(cp_flag,S,K,tau,r,v,q=0.0):\n",
    "    d1 = (np.log(S/K)+(r+v*v/2.)*tau)/(v*np.sqrt(tau))\n",
    "    d2 = d1-v*np.sqrt(tau)\n",
    "    if cp_flag == 'c':\n",
    "        price = S*np.exp(-q*tau)*N(d1)-K*np.exp(-r*tau)*N(d2)\n",
    "    else:\n",
    "        price = K*np.exp(-r*tau)*N(-d2)-S*np.exp(-q*tau)*N(-d1)\n",
    "    return price\n",
    "\n",
    "def bs_vega(cp_flag,S,K,tau,r,v,q=0.0):\n",
    "    d1 = (np.log(S/K)+(r+v*v/2.)*T)/(v*np.sqrt(tau))\n",
    "    return S * np.sqrt(tau)*n(d1)\n",
    "\n",
    "V_market = 17.5 #market value\n",
    "K = 585 #strike price\n",
    "start_date=datetime.datetime(2019,1,1) #start date of the option\n",
    "end_date=datetime.datetime(2019,3,24)  #end date of the option\n",
    "tau = (end_date - start_date).days / 365.  #time to maturity\n",
    "S = 586.08 #asset price\n",
    "r = 0.0002 #risk free rate\n",
    "cp = 'c' # call option\n",
    "\n",
    "implied_vol = find_vol(V_market, cp, S, K, tau, r)\n",
    "\n",
    "print ('Implied vol: %.2f%%' % (implied_vol * 100))\n",
    "\n",
    "print ('Market price = %.2f' % V_market)\n",
    "print ('Model price = %.2f' % bs_price(cp, S, K, tau, r, implied_vol))"
   ]
  },
  {
   "cell_type": "code",
   "execution_count": null,
   "metadata": {},
   "outputs": [],
   "source": []
  }
 ],
 "metadata": {
  "kernelspec": {
   "display_name": "Python 3",
   "language": "python",
   "name": "python3"
  },
  "language_info": {
   "codemirror_mode": {
    "name": "ipython",
    "version": 3
   },
   "file_extension": ".py",
   "mimetype": "text/x-python",
   "name": "python",
   "nbconvert_exporter": "python",
   "pygments_lexer": "ipython3",
   "version": "3.7.1"
  }
 },
 "nbformat": 4,
 "nbformat_minor": 2
}
